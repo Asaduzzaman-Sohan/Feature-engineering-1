{
 "cells": [
  {
   "cell_type": "markdown",
   "id": "237462cb-7290-45ed-939d-1b7e6d7fa788",
   "metadata": {},
   "source": [
    "# Problem Set: Scaling & Linear Regression"
   ]
  },
  {
   "cell_type": "code",
   "execution_count": 1,
   "id": "ee945363-08e4-454a-bd04-31f51fa7337e",
   "metadata": {},
   "outputs": [],
   "source": [
    "import pandas as pd\n",
    "import numpy as np\n",
    "import matplotlib.pyplot as plt\n",
    "import seaborn as sns"
   ]
  },
  {
   "cell_type": "markdown",
   "id": "96a5f28d-6727-44c0-80e3-90cf436e551b",
   "metadata": {},
   "source": [
    "# Part 1: Data Preprocessing\n",
    "\n",
    "<font color='blue'>\n",
    "1. Load the Excel dataset into a pandas DataFrame. Handle any missing values and perform data\n",
    "exploration to understand the characteristics of the dataset</font>."
   ]
  },
  {
   "cell_type": "code",
   "execution_count": 2,
   "id": "f4389d2e-3158-4cab-965d-916098c9fb72",
   "metadata": {},
   "outputs": [],
   "source": [
    "real_estate_data = pd.read_csv(\"Real estate.csv\")"
   ]
  },
  {
   "cell_type": "code",
   "execution_count": 3,
   "id": "b51c817b-a747-4e79-b2cf-654626c5171f",
   "metadata": {},
   "outputs": [],
   "source": [
    "# pd.set_option(\"display.max_rows\", None)\n",
    "# pd.set_option(\"display.max_columns\", None)"
   ]
  },
  {
   "cell_type": "code",
   "execution_count": 4,
   "id": "e60b5000-1e18-4574-a652-461d4ad669fa",
   "metadata": {},
   "outputs": [
    {
     "data": {
      "text/html": [
       "<div>\n",
       "<style scoped>\n",
       "    .dataframe tbody tr th:only-of-type {\n",
       "        vertical-align: middle;\n",
       "    }\n",
       "\n",
       "    .dataframe tbody tr th {\n",
       "        vertical-align: top;\n",
       "    }\n",
       "\n",
       "    .dataframe thead th {\n",
       "        text-align: right;\n",
       "    }\n",
       "</style>\n",
       "<table border=\"1\" class=\"dataframe\">\n",
       "  <thead>\n",
       "    <tr style=\"text-align: right;\">\n",
       "      <th></th>\n",
       "      <th>No</th>\n",
       "      <th>X1 transaction date</th>\n",
       "      <th>X2 house age</th>\n",
       "      <th>X3 distance to the nearest MRT station</th>\n",
       "      <th>X4 number of convenience stores</th>\n",
       "      <th>X5 latitude</th>\n",
       "      <th>X6 longitude</th>\n",
       "      <th>Y house price of unit area</th>\n",
       "    </tr>\n",
       "  </thead>\n",
       "  <tbody>\n",
       "    <tr>\n",
       "      <th>0</th>\n",
       "      <td>1</td>\n",
       "      <td>2012.917</td>\n",
       "      <td>32.0</td>\n",
       "      <td>84.87882</td>\n",
       "      <td>10</td>\n",
       "      <td>24.98298</td>\n",
       "      <td>121.54024</td>\n",
       "      <td>37.9</td>\n",
       "    </tr>\n",
       "    <tr>\n",
       "      <th>1</th>\n",
       "      <td>2</td>\n",
       "      <td>2012.917</td>\n",
       "      <td>19.5</td>\n",
       "      <td>306.59470</td>\n",
       "      <td>9</td>\n",
       "      <td>24.98034</td>\n",
       "      <td>121.53951</td>\n",
       "      <td>42.2</td>\n",
       "    </tr>\n",
       "    <tr>\n",
       "      <th>2</th>\n",
       "      <td>3</td>\n",
       "      <td>2013.583</td>\n",
       "      <td>13.3</td>\n",
       "      <td>561.98450</td>\n",
       "      <td>5</td>\n",
       "      <td>24.98746</td>\n",
       "      <td>121.54391</td>\n",
       "      <td>47.3</td>\n",
       "    </tr>\n",
       "    <tr>\n",
       "      <th>3</th>\n",
       "      <td>4</td>\n",
       "      <td>2013.500</td>\n",
       "      <td>13.3</td>\n",
       "      <td>561.98450</td>\n",
       "      <td>5</td>\n",
       "      <td>24.98746</td>\n",
       "      <td>121.54391</td>\n",
       "      <td>54.8</td>\n",
       "    </tr>\n",
       "    <tr>\n",
       "      <th>4</th>\n",
       "      <td>5</td>\n",
       "      <td>2012.833</td>\n",
       "      <td>5.0</td>\n",
       "      <td>390.56840</td>\n",
       "      <td>5</td>\n",
       "      <td>24.97937</td>\n",
       "      <td>121.54245</td>\n",
       "      <td>43.1</td>\n",
       "    </tr>\n",
       "    <tr>\n",
       "      <th>...</th>\n",
       "      <td>...</td>\n",
       "      <td>...</td>\n",
       "      <td>...</td>\n",
       "      <td>...</td>\n",
       "      <td>...</td>\n",
       "      <td>...</td>\n",
       "      <td>...</td>\n",
       "      <td>...</td>\n",
       "    </tr>\n",
       "    <tr>\n",
       "      <th>409</th>\n",
       "      <td>410</td>\n",
       "      <td>2013.000</td>\n",
       "      <td>13.7</td>\n",
       "      <td>4082.01500</td>\n",
       "      <td>0</td>\n",
       "      <td>24.94155</td>\n",
       "      <td>121.50381</td>\n",
       "      <td>15.4</td>\n",
       "    </tr>\n",
       "    <tr>\n",
       "      <th>410</th>\n",
       "      <td>411</td>\n",
       "      <td>2012.667</td>\n",
       "      <td>5.6</td>\n",
       "      <td>90.45606</td>\n",
       "      <td>9</td>\n",
       "      <td>24.97433</td>\n",
       "      <td>121.54310</td>\n",
       "      <td>50.0</td>\n",
       "    </tr>\n",
       "    <tr>\n",
       "      <th>411</th>\n",
       "      <td>412</td>\n",
       "      <td>2013.250</td>\n",
       "      <td>18.8</td>\n",
       "      <td>390.96960</td>\n",
       "      <td>7</td>\n",
       "      <td>24.97923</td>\n",
       "      <td>121.53986</td>\n",
       "      <td>40.6</td>\n",
       "    </tr>\n",
       "    <tr>\n",
       "      <th>412</th>\n",
       "      <td>413</td>\n",
       "      <td>2013.000</td>\n",
       "      <td>8.1</td>\n",
       "      <td>104.81010</td>\n",
       "      <td>5</td>\n",
       "      <td>24.96674</td>\n",
       "      <td>121.54067</td>\n",
       "      <td>52.5</td>\n",
       "    </tr>\n",
       "    <tr>\n",
       "      <th>413</th>\n",
       "      <td>414</td>\n",
       "      <td>2013.500</td>\n",
       "      <td>6.5</td>\n",
       "      <td>90.45606</td>\n",
       "      <td>9</td>\n",
       "      <td>24.97433</td>\n",
       "      <td>121.54310</td>\n",
       "      <td>63.9</td>\n",
       "    </tr>\n",
       "  </tbody>\n",
       "</table>\n",
       "<p>414 rows × 8 columns</p>\n",
       "</div>"
      ],
      "text/plain": [
       "      No  X1 transaction date  X2 house age  \\\n",
       "0      1             2012.917          32.0   \n",
       "1      2             2012.917          19.5   \n",
       "2      3             2013.583          13.3   \n",
       "3      4             2013.500          13.3   \n",
       "4      5             2012.833           5.0   \n",
       "..   ...                  ...           ...   \n",
       "409  410             2013.000          13.7   \n",
       "410  411             2012.667           5.6   \n",
       "411  412             2013.250          18.8   \n",
       "412  413             2013.000           8.1   \n",
       "413  414             2013.500           6.5   \n",
       "\n",
       "     X3 distance to the nearest MRT station  X4 number of convenience stores  \\\n",
       "0                                  84.87882                               10   \n",
       "1                                 306.59470                                9   \n",
       "2                                 561.98450                                5   \n",
       "3                                 561.98450                                5   \n",
       "4                                 390.56840                                5   \n",
       "..                                      ...                              ...   \n",
       "409                              4082.01500                                0   \n",
       "410                                90.45606                                9   \n",
       "411                               390.96960                                7   \n",
       "412                               104.81010                                5   \n",
       "413                                90.45606                                9   \n",
       "\n",
       "     X5 latitude  X6 longitude  Y house price of unit area  \n",
       "0       24.98298     121.54024                        37.9  \n",
       "1       24.98034     121.53951                        42.2  \n",
       "2       24.98746     121.54391                        47.3  \n",
       "3       24.98746     121.54391                        54.8  \n",
       "4       24.97937     121.54245                        43.1  \n",
       "..           ...           ...                         ...  \n",
       "409     24.94155     121.50381                        15.4  \n",
       "410     24.97433     121.54310                        50.0  \n",
       "411     24.97923     121.53986                        40.6  \n",
       "412     24.96674     121.54067                        52.5  \n",
       "413     24.97433     121.54310                        63.9  \n",
       "\n",
       "[414 rows x 8 columns]"
      ]
     },
     "execution_count": 4,
     "metadata": {},
     "output_type": "execute_result"
    }
   ],
   "source": [
    "real_estate_data"
   ]
  },
  {
   "cell_type": "code",
   "execution_count": 5,
   "id": "0b327dd4-a909-4a74-9f4e-e9f2293f96d6",
   "metadata": {},
   "outputs": [
    {
     "data": {
      "text/html": [
       "<div>\n",
       "<style scoped>\n",
       "    .dataframe tbody tr th:only-of-type {\n",
       "        vertical-align: middle;\n",
       "    }\n",
       "\n",
       "    .dataframe tbody tr th {\n",
       "        vertical-align: top;\n",
       "    }\n",
       "\n",
       "    .dataframe thead th {\n",
       "        text-align: right;\n",
       "    }\n",
       "</style>\n",
       "<table border=\"1\" class=\"dataframe\">\n",
       "  <thead>\n",
       "    <tr style=\"text-align: right;\">\n",
       "      <th></th>\n",
       "      <th>X1 transaction date</th>\n",
       "      <th>X2 house age</th>\n",
       "      <th>X3 distance to the nearest MRT station</th>\n",
       "      <th>X4 number of convenience stores</th>\n",
       "      <th>X5 latitude</th>\n",
       "      <th>X6 longitude</th>\n",
       "      <th>Y house price of unit area</th>\n",
       "    </tr>\n",
       "  </thead>\n",
       "  <tbody>\n",
       "    <tr>\n",
       "      <th>0</th>\n",
       "      <td>2012.917</td>\n",
       "      <td>32.0</td>\n",
       "      <td>84.87882</td>\n",
       "      <td>10</td>\n",
       "      <td>24.98298</td>\n",
       "      <td>121.54024</td>\n",
       "      <td>37.9</td>\n",
       "    </tr>\n",
       "    <tr>\n",
       "      <th>1</th>\n",
       "      <td>2012.917</td>\n",
       "      <td>19.5</td>\n",
       "      <td>306.59470</td>\n",
       "      <td>9</td>\n",
       "      <td>24.98034</td>\n",
       "      <td>121.53951</td>\n",
       "      <td>42.2</td>\n",
       "    </tr>\n",
       "    <tr>\n",
       "      <th>2</th>\n",
       "      <td>2013.583</td>\n",
       "      <td>13.3</td>\n",
       "      <td>561.98450</td>\n",
       "      <td>5</td>\n",
       "      <td>24.98746</td>\n",
       "      <td>121.54391</td>\n",
       "      <td>47.3</td>\n",
       "    </tr>\n",
       "    <tr>\n",
       "      <th>3</th>\n",
       "      <td>2013.500</td>\n",
       "      <td>13.3</td>\n",
       "      <td>561.98450</td>\n",
       "      <td>5</td>\n",
       "      <td>24.98746</td>\n",
       "      <td>121.54391</td>\n",
       "      <td>54.8</td>\n",
       "    </tr>\n",
       "    <tr>\n",
       "      <th>4</th>\n",
       "      <td>2012.833</td>\n",
       "      <td>5.0</td>\n",
       "      <td>390.56840</td>\n",
       "      <td>5</td>\n",
       "      <td>24.97937</td>\n",
       "      <td>121.54245</td>\n",
       "      <td>43.1</td>\n",
       "    </tr>\n",
       "  </tbody>\n",
       "</table>\n",
       "</div>"
      ],
      "text/plain": [
       "   X1 transaction date  X2 house age  X3 distance to the nearest MRT station  \\\n",
       "0             2012.917          32.0                                84.87882   \n",
       "1             2012.917          19.5                               306.59470   \n",
       "2             2013.583          13.3                               561.98450   \n",
       "3             2013.500          13.3                               561.98450   \n",
       "4             2012.833           5.0                               390.56840   \n",
       "\n",
       "   X4 number of convenience stores  X5 latitude  X6 longitude  \\\n",
       "0                               10     24.98298     121.54024   \n",
       "1                                9     24.98034     121.53951   \n",
       "2                                5     24.98746     121.54391   \n",
       "3                                5     24.98746     121.54391   \n",
       "4                                5     24.97937     121.54245   \n",
       "\n",
       "   Y house price of unit area  \n",
       "0                        37.9  \n",
       "1                        42.2  \n",
       "2                        47.3  \n",
       "3                        54.8  \n",
       "4                        43.1  "
      ]
     },
     "execution_count": 5,
     "metadata": {},
     "output_type": "execute_result"
    }
   ],
   "source": [
    "real_estate = pd.read_csv(\"Real estate.csv\", usecols=list(range(1, 8)))\n",
    "real_estate.head()"
   ]
  },
  {
   "cell_type": "code",
   "execution_count": 6,
   "id": "e3010dc8-9a16-4f4b-935d-9de2f454c04b",
   "metadata": {},
   "outputs": [
    {
     "name": "stdout",
     "output_type": "stream",
     "text": [
      "<class 'pandas.core.frame.DataFrame'>\n",
      "RangeIndex: 414 entries, 0 to 413\n",
      "Data columns (total 7 columns):\n",
      " #   Column                                  Non-Null Count  Dtype  \n",
      "---  ------                                  --------------  -----  \n",
      " 0   X1 transaction date                     414 non-null    float64\n",
      " 1   X2 house age                            414 non-null    float64\n",
      " 2   X3 distance to the nearest MRT station  414 non-null    float64\n",
      " 3   X4 number of convenience stores         414 non-null    int64  \n",
      " 4   X5 latitude                             414 non-null    float64\n",
      " 5   X6 longitude                            414 non-null    float64\n",
      " 6   Y house price of unit area              414 non-null    float64\n",
      "dtypes: float64(6), int64(1)\n",
      "memory usage: 22.8 KB\n"
     ]
    }
   ],
   "source": [
    "real_estate.info()"
   ]
  },
  {
   "cell_type": "code",
   "execution_count": 7,
   "id": "107162d4-a63c-4050-9a3a-5944869030fe",
   "metadata": {},
   "outputs": [
    {
     "data": {
      "text/html": [
       "<div>\n",
       "<style scoped>\n",
       "    .dataframe tbody tr th:only-of-type {\n",
       "        vertical-align: middle;\n",
       "    }\n",
       "\n",
       "    .dataframe tbody tr th {\n",
       "        vertical-align: top;\n",
       "    }\n",
       "\n",
       "    .dataframe thead th {\n",
       "        text-align: right;\n",
       "    }\n",
       "</style>\n",
       "<table border=\"1\" class=\"dataframe\">\n",
       "  <thead>\n",
       "    <tr style=\"text-align: right;\">\n",
       "      <th></th>\n",
       "      <th>X1 transaction date</th>\n",
       "      <th>X2 house age</th>\n",
       "      <th>X3 distance to the nearest MRT station</th>\n",
       "      <th>X4 number of convenience stores</th>\n",
       "      <th>X5 latitude</th>\n",
       "      <th>X6 longitude</th>\n",
       "      <th>Y house price of unit area</th>\n",
       "    </tr>\n",
       "  </thead>\n",
       "  <tbody>\n",
       "    <tr>\n",
       "      <th>count</th>\n",
       "      <td>414.000000</td>\n",
       "      <td>414.000000</td>\n",
       "      <td>414.000000</td>\n",
       "      <td>414.000000</td>\n",
       "      <td>414.000000</td>\n",
       "      <td>414.000000</td>\n",
       "      <td>414.000000</td>\n",
       "    </tr>\n",
       "    <tr>\n",
       "      <th>mean</th>\n",
       "      <td>2013.148971</td>\n",
       "      <td>17.712560</td>\n",
       "      <td>1083.885689</td>\n",
       "      <td>4.094203</td>\n",
       "      <td>24.969030</td>\n",
       "      <td>121.533361</td>\n",
       "      <td>37.980193</td>\n",
       "    </tr>\n",
       "    <tr>\n",
       "      <th>std</th>\n",
       "      <td>0.281967</td>\n",
       "      <td>11.392485</td>\n",
       "      <td>1262.109595</td>\n",
       "      <td>2.945562</td>\n",
       "      <td>0.012410</td>\n",
       "      <td>0.015347</td>\n",
       "      <td>13.606488</td>\n",
       "    </tr>\n",
       "    <tr>\n",
       "      <th>min</th>\n",
       "      <td>2012.667000</td>\n",
       "      <td>0.000000</td>\n",
       "      <td>23.382840</td>\n",
       "      <td>0.000000</td>\n",
       "      <td>24.932070</td>\n",
       "      <td>121.473530</td>\n",
       "      <td>7.600000</td>\n",
       "    </tr>\n",
       "    <tr>\n",
       "      <th>25%</th>\n",
       "      <td>2012.917000</td>\n",
       "      <td>9.025000</td>\n",
       "      <td>289.324800</td>\n",
       "      <td>1.000000</td>\n",
       "      <td>24.963000</td>\n",
       "      <td>121.528085</td>\n",
       "      <td>27.700000</td>\n",
       "    </tr>\n",
       "    <tr>\n",
       "      <th>50%</th>\n",
       "      <td>2013.167000</td>\n",
       "      <td>16.100000</td>\n",
       "      <td>492.231300</td>\n",
       "      <td>4.000000</td>\n",
       "      <td>24.971100</td>\n",
       "      <td>121.538630</td>\n",
       "      <td>38.450000</td>\n",
       "    </tr>\n",
       "    <tr>\n",
       "      <th>75%</th>\n",
       "      <td>2013.417000</td>\n",
       "      <td>28.150000</td>\n",
       "      <td>1454.279000</td>\n",
       "      <td>6.000000</td>\n",
       "      <td>24.977455</td>\n",
       "      <td>121.543305</td>\n",
       "      <td>46.600000</td>\n",
       "    </tr>\n",
       "    <tr>\n",
       "      <th>max</th>\n",
       "      <td>2013.583000</td>\n",
       "      <td>43.800000</td>\n",
       "      <td>6488.021000</td>\n",
       "      <td>10.000000</td>\n",
       "      <td>25.014590</td>\n",
       "      <td>121.566270</td>\n",
       "      <td>117.500000</td>\n",
       "    </tr>\n",
       "  </tbody>\n",
       "</table>\n",
       "</div>"
      ],
      "text/plain": [
       "       X1 transaction date  X2 house age  \\\n",
       "count           414.000000    414.000000   \n",
       "mean           2013.148971     17.712560   \n",
       "std               0.281967     11.392485   \n",
       "min            2012.667000      0.000000   \n",
       "25%            2012.917000      9.025000   \n",
       "50%            2013.167000     16.100000   \n",
       "75%            2013.417000     28.150000   \n",
       "max            2013.583000     43.800000   \n",
       "\n",
       "       X3 distance to the nearest MRT station  \\\n",
       "count                              414.000000   \n",
       "mean                              1083.885689   \n",
       "std                               1262.109595   \n",
       "min                                 23.382840   \n",
       "25%                                289.324800   \n",
       "50%                                492.231300   \n",
       "75%                               1454.279000   \n",
       "max                               6488.021000   \n",
       "\n",
       "       X4 number of convenience stores  X5 latitude  X6 longitude  \\\n",
       "count                       414.000000   414.000000    414.000000   \n",
       "mean                          4.094203    24.969030    121.533361   \n",
       "std                           2.945562     0.012410      0.015347   \n",
       "min                           0.000000    24.932070    121.473530   \n",
       "25%                           1.000000    24.963000    121.528085   \n",
       "50%                           4.000000    24.971100    121.538630   \n",
       "75%                           6.000000    24.977455    121.543305   \n",
       "max                          10.000000    25.014590    121.566270   \n",
       "\n",
       "       Y house price of unit area  \n",
       "count                  414.000000  \n",
       "mean                    37.980193  \n",
       "std                     13.606488  \n",
       "min                      7.600000  \n",
       "25%                     27.700000  \n",
       "50%                     38.450000  \n",
       "75%                     46.600000  \n",
       "max                    117.500000  "
      ]
     },
     "execution_count": 7,
     "metadata": {},
     "output_type": "execute_result"
    }
   ],
   "source": [
    "real_estate.describe()"
   ]
  },
  {
   "cell_type": "code",
   "execution_count": 8,
   "id": "f2c1c423-a5c4-4e05-a9d8-3ce5a16cc578",
   "metadata": {},
   "outputs": [
    {
     "data": {
      "text/plain": [
       "X1 transaction date                       False\n",
       "X2 house age                              False\n",
       "X3 distance to the nearest MRT station    False\n",
       "X4 number of convenience stores           False\n",
       "X5 latitude                               False\n",
       "X6 longitude                              False\n",
       "Y house price of unit area                False\n",
       "dtype: bool"
      ]
     },
     "execution_count": 8,
     "metadata": {},
     "output_type": "execute_result"
    }
   ],
   "source": [
    "real_estate.isna().any()"
   ]
  },
  {
   "cell_type": "code",
   "execution_count": null,
   "id": "087f7463-17f5-493f-bafb-78c7e7935350",
   "metadata": {},
   "outputs": [],
   "source": [
    "sns.pairplot(real_estate)"
   ]
  },
  {
   "cell_type": "markdown",
   "id": "4006cdbc-2758-48ad-953f-155769e9bc85",
   "metadata": {},
   "source": [
    "---------------------------------------------------------------------------------------------------------------------------------------------------------\n",
    "\n",
    "<font color='purple'>2. Extract the feature columns (X1 to X6) and the target column (Y). Split the dataset into features (X) and\r\n",
    "target (y). (70% training & 30% testing ratio)</font>."
   ]
  },
  {
   "cell_type": "code",
   "execution_count": null,
   "id": "25d0be55-4b96-441d-a323-8d8959a79a7d",
   "metadata": {},
   "outputs": [],
   "source": [
    "# Correlation Analysis:\n",
    "# Correlation heatmap\n",
    "\n",
    "correlation_matrix = real_estate.corr()\n",
    "sns.heatmap(correlation_matrix, annot=True, cmap='coolwarm')\n",
    "plt.show()"
   ]
  },
  {
   "cell_type": "code",
   "execution_count": null,
   "id": "07a1b47a-cceb-4cac-9d5e-ca2eee40b6d6",
   "metadata": {},
   "outputs": [],
   "source": [
    "# Categorical Variables:\n",
    "# Countplot for categorical variables\n",
    "\n",
    "sns.countplot(x='X2 house age', data=real_estate)\n",
    "plt.show()"
   ]
  },
  {
   "cell_type": "code",
   "execution_count": null,
   "id": "db0806c0-bdce-4d02-a0fd-5cd14203475b",
   "metadata": {},
   "outputs": [],
   "source": [
    "# Crosstab for analyzing two categorical variables\n",
    "\n",
    "pd.crosstab(real_estate['X5 latitude'], real_estate['X6 longitude'])"
   ]
  },
  {
   "cell_type": "code",
   "execution_count": null,
   "id": "e9205d76-fa6f-44e3-a7a5-90b70d50c62a",
   "metadata": {},
   "outputs": [],
   "source": [
    "X = real_estate.drop('Y house price of unit area', axis=1)\n",
    "X.head()"
   ]
  },
  {
   "cell_type": "code",
   "execution_count": null,
   "id": "dee0bf14-2773-4bad-9ed9-730f4c8c2cee",
   "metadata": {},
   "outputs": [],
   "source": [
    "y = real_estate['Y house price of unit area']\n",
    "y.head()"
   ]
  },
  {
   "cell_type": "code",
   "execution_count": null,
   "id": "d5a79de5-1688-4286-9468-b030a7d28130",
   "metadata": {},
   "outputs": [],
   "source": [
    "from sklearn.model_selection import train_test_split"
   ]
  },
  {
   "cell_type": "code",
   "execution_count": null,
   "id": "9c2e2054-8777-4251-b2ea-702332db4380",
   "metadata": {},
   "outputs": [],
   "source": [
    "X_train, X_test, y_train, y_test = train_test_split(X, y, test_size = 0.3, random_state=42)"
   ]
  },
  {
   "cell_type": "markdown",
   "id": "6ab13cb9-deaf-4cf7-aaad-d72ac907a191",
   "metadata": {},
   "source": [
    "--------------------------------------------------------------------------------------------------------------------------------------------------------\n",
    "\n",
    "<font color='purple'><strong>3. Standardize the feature columns (X1 to X6) using Z-score scaling. Implement the scaling process manually (without using libraries like `scikit-learn`).</strong></font>."
   ]
  },
  {
   "cell_type": "code",
   "execution_count": null,
   "id": "ddad237b-b842-4bc9-aa62-85a82c033ee1",
   "metadata": {},
   "outputs": [],
   "source": [
    "def standardizer(column):\n",
    "    return (column - column.mean()) / column.std()"
   ]
  },
  {
   "cell_type": "code",
   "execution_count": null,
   "id": "83a2e4a0-8a86-4e69-9eb2-653466f2520b",
   "metadata": {},
   "outputs": [],
   "source": [
    "standardizer(real_estate['X2 house age'])"
   ]
  },
  {
   "cell_type": "code",
   "execution_count": null,
   "id": "6c813a3b-208d-4054-9b71-4f19a625f0ec",
   "metadata": {},
   "outputs": [],
   "source": [
    "X_train_1 = X_train.copy()\n",
    "X_test_1 = X_test.copy()"
   ]
  },
  {
   "cell_type": "code",
   "execution_count": null,
   "id": "9c7c7b84-0e4e-4487-a7a6-a077a5323eb3",
   "metadata": {},
   "outputs": [],
   "source": [
    "scales = {}\n",
    "for column in X_train_1.columns:\n",
    "    column_mean = X_train_1[column].mean()\n",
    "    column_std = X_train_1[column].std()\n",
    "    scales[column] = dict(mean = column_mean, std = column_std)\n",
    "\n",
    "scales"
   ]
  },
  {
   "cell_type": "code",
   "execution_count": null,
   "id": "ffe34f8f-7fac-46c0-b441-02b9760b1fc6",
   "metadata": {},
   "outputs": [],
   "source": [
    "for column in X_train_1.columns:\n",
    "    X_train_1[column] = standardizer(X_train_1[column])\n",
    "\n",
    "X_train_1.head()"
   ]
  },
  {
   "cell_type": "code",
   "execution_count": null,
   "id": "200acdda-837f-4c7e-a311-00ffc8c7a718",
   "metadata": {},
   "outputs": [],
   "source": [
    "scales['X1 transaction date']['std']"
   ]
  },
  {
   "cell_type": "code",
   "execution_count": null,
   "id": "a0cda6e5-466a-47f5-90d6-b8f82363f854",
   "metadata": {},
   "outputs": [],
   "source": [
    "X_test_1.head()"
   ]
  },
  {
   "cell_type": "code",
   "execution_count": null,
   "id": "2e0ff38d-c6dc-48dc-8a77-246020c636c3",
   "metadata": {},
   "outputs": [],
   "source": [
    "for column in X_test_1.columns:\n",
    "    X_test_1[column] = (X_test_1[column] - scales[column]['mean']) / scales[column]['std']"
   ]
  },
  {
   "cell_type": "code",
   "execution_count": null,
   "id": "89424f8e-10cd-46a6-b08a-f13fbf4d6447",
   "metadata": {},
   "outputs": [],
   "source": [
    "X_test_1.head()"
   ]
  },
  {
   "cell_type": "markdown",
   "id": "4cae9ce5-7455-404c-b990-763709340720",
   "metadata": {},
   "source": [
    "----------------------------------------------------------------------------------------------------------------------\n",
    "\n",
    "# Part 2: Linear Regression\n",
    "\n",
    "<font color='purple'><strong>4. Implement a simple linear regression model using the scaled features (X1 to X6) to predict the house price (Y). You can use gradient descent for optimization. Calculate the regression coefficients (intercept and slope) and write down the regression equation.</strong></font> "
   ]
  },
  {
   "cell_type": "code",
   "execution_count": null,
   "id": "a5c588da-7e68-459c-acdb-941e451814fd",
   "metadata": {},
   "outputs": [],
   "source": [
    "from sklearn.linear_model import LinearRegression"
   ]
  },
  {
   "cell_type": "code",
   "execution_count": null,
   "id": "9472c5e9-c34d-454d-a8fa-7b7734c6f9af",
   "metadata": {},
   "outputs": [],
   "source": [
    "lr = LinearRegression()"
   ]
  },
  {
   "cell_type": "code",
   "execution_count": null,
   "id": "050e72c0-fc06-41e0-8f38-4b22cbbe35a1",
   "metadata": {},
   "outputs": [],
   "source": [
    "lr.fit(X_train_1, y_train)"
   ]
  },
  {
   "cell_type": "code",
   "execution_count": null,
   "id": "dc720de1-850d-48fc-a68e-f25284ce5736",
   "metadata": {},
   "outputs": [],
   "source": [
    "lr.predict([[0.010300, -1.433801, -0.698739, 0.610202 ,-0.309479, 0.488590]])"
   ]
  },
  {
   "cell_type": "code",
   "execution_count": null,
   "id": "6f47dd51-14d5-43df-a40b-ae2a97b0236f",
   "metadata": {},
   "outputs": [],
   "source": [
    "y_test.head()"
   ]
  },
  {
   "cell_type": "code",
   "execution_count": null,
   "id": "46c216a6-b9de-4fef-8215-ff723c8ab260",
   "metadata": {},
   "outputs": [],
   "source": [
    "y_test.tail()"
   ]
  },
  {
   "cell_type": "markdown",
   "id": "0cd64062-5bf6-4564-9172-a9dfdb253d35",
   "metadata": {},
   "source": [
    "<font font-size='18px'> -0.873542, -0.416515, -0.717526, -1.062932, 0.329289, -0.242888 </font>"
   ]
  },
  {
   "cell_type": "code",
   "execution_count": null,
   "id": "12b85832-564d-4d79-b519-57c2da8eaff8",
   "metadata": {},
   "outputs": [],
   "source": [
    "lr.predict([[-0.873542, -0.416515, -0.717526, -1.062932, 0.329289, -0.242888]])"
   ]
  },
  {
   "cell_type": "markdown",
   "id": "5e43a2ba-47b1-4003-861e-11885c208133",
   "metadata": {},
   "source": [
    "<font> -1.757384, 0.241212, 0.896451, -0.393679, -0.508295, -1.399352 </font>"
   ]
  },
  {
   "cell_type": "code",
   "execution_count": null,
   "id": "b9b39ed5-b3c4-4d48-8d60-5a2a58913db8",
   "metadata": {},
   "outputs": [],
   "source": [
    "lr.predict([[-1.757384, 0.241212, 0.896451, -0.393679, -0.508295, -1.399352]])"
   ]
  },
  {
   "cell_type": "code",
   "execution_count": null,
   "id": "afdbeff4-e335-4b66-8d52-a6c118d5cbe3",
   "metadata": {},
   "outputs": [],
   "source": [
    "lr.coef_"
   ]
  },
  {
   "cell_type": "code",
   "execution_count": null,
   "id": "8862e2ac-fd6d-4e99-94ae-7a262779efae",
   "metadata": {},
   "outputs": [],
   "source": [
    "lr.intercept_"
   ]
  },
  {
   "cell_type": "markdown",
   "id": "c2aee120-a079-446a-a20b-eb2ba6a33e0c",
   "metadata": {},
   "source": [
    "<font style=\"font-size: 18px;\"> The linear regression equation: y = mx + c </font>"
   ]
  },
  {
   "cell_type": "code",
   "execution_count": null,
   "id": "e4f56a72-31f0-4051-9fd9-9e59d02a6ded",
   "metadata": {},
   "outputs": [],
   "source": [
    "sum(lr.coef_*[-0.873542,-0.416515,-0.717526,-1.062932,0.329289,-0.242888]) + lr.intercept_"
   ]
  },
  {
   "cell_type": "code",
   "execution_count": null,
   "id": "db8dc06b-a36f-4def-9010-6807f88b78cd",
   "metadata": {},
   "outputs": [],
   "source": [
    "sum(lr.coef_*[-1.757384, 0.241212, 0.896451, -0.393679, -0.508295, -1.399352]) + lr.intercept_"
   ]
  },
  {
   "cell_type": "markdown",
   "id": "e8a480d9-022f-4a8e-aa8a-153f421d7cd7",
   "metadata": {},
   "source": [
    "--------------------------------------------------------------------------------------------------------------------------------------------------------\n",
    "\n",
    "<font color='purple'><strong>5. Evaluate the model's performance using metrics such as Mean Squared Error (MSE) and R-squared. Interpret the R-squared value in the context of this regression.</strong></font>"
   ]
  },
  {
   "cell_type": "code",
   "execution_count": null,
   "id": "5e0bdbeb-8c49-43d0-b16a-79f19ced395a",
   "metadata": {},
   "outputs": [],
   "source": [
    "from sklearn.metrics import mean_squared_error"
   ]
  },
  {
   "cell_type": "code",
   "execution_count": null,
   "id": "bc81bf59-dfc6-4bc6-a91f-b711ebcb45c8",
   "metadata": {},
   "outputs": [],
   "source": [
    "y_pred = lr.predict(X_test_1)\n",
    "y_pred"
   ]
  },
  {
   "cell_type": "code",
   "execution_count": null,
   "id": "6685cf2f-635a-4755-953e-4fcc1c1f8259",
   "metadata": {},
   "outputs": [],
   "source": [
    "MSE = mean_squared_error(y_test, y_pred)"
   ]
  },
  {
   "cell_type": "code",
   "execution_count": null,
   "id": "a42b79c6-57a3-4d98-8e5b-e7a362f920d8",
   "metadata": {},
   "outputs": [],
   "source": [
    "MSE"
   ]
  },
  {
   "cell_type": "code",
   "execution_count": null,
   "id": "e1e9d423-2cd3-4def-a27f-70c30ea60d87",
   "metadata": {},
   "outputs": [],
   "source": [
    "from sklearn.metrics import r2_score\n",
    "r_squared = r2_score(y_test, y_pred)\n",
    "r_squared"
   ]
  },
  {
   "cell_type": "markdown",
   "id": "6cbbf796-aff9-493e-b84c-273e212bd2f0",
   "metadata": {},
   "source": [
    "----------------------------------------------------------------------------------------------------------------------\n",
    "\n",
    "# Part 3: Feature Scaling Comparison\n",
    "\n",
    "<font color='purple'><strong>6. Train another linear regression model without scaling the features. Compare the performance of this model with the scaled model from Part 2 in terms of convergence speed and prediction accuracy.</strong></font> "
   ]
  },
  {
   "cell_type": "code",
   "execution_count": null,
   "id": "76e5ed87-f7b3-4301-9afa-7bfb14f934f6",
   "metadata": {},
   "outputs": [],
   "source": [
    "X_train_without_scaling = X_train.copy()\n",
    "X_train_without_scaling"
   ]
  },
  {
   "cell_type": "code",
   "execution_count": null,
   "id": "19708fc1-ec21-4810-93d5-fd9852c9a0cb",
   "metadata": {},
   "outputs": [],
   "source": [
    "X_test_without_scaling = X_test.copy()\n",
    "X_test_without_scaling"
   ]
  },
  {
   "cell_type": "code",
   "execution_count": null,
   "id": "5e2488a3-fcfd-416a-823b-aa32a2621963",
   "metadata": {},
   "outputs": [],
   "source": [
    "ln_reg = LinearRegression()"
   ]
  },
  {
   "cell_type": "code",
   "execution_count": null,
   "id": "e4bb3e5f-5878-431f-bee9-a8aa88e60107",
   "metadata": {},
   "outputs": [],
   "source": [
    "ln_reg.fit(X_train_without_scaling, y_train)"
   ]
  },
  {
   "cell_type": "code",
   "execution_count": null,
   "id": "3305e831-1b85-4b97-94dd-dc8da8aa94a7",
   "metadata": {},
   "outputs": [],
   "source": [
    "y_pred_without_scaling = ln_reg.predict(X_test_without_scaling)\n",
    "y_pred_without_scaling"
   ]
  },
  {
   "cell_type": "code",
   "execution_count": null,
   "id": "880baccc-41cb-430a-8016-738298f60ba9",
   "metadata": {},
   "outputs": [],
   "source": [
    "MSE_without_scaling = mean_squared_error(y_test, y_pred_without_scaling)\n",
    "MSE_without_scaling"
   ]
  },
  {
   "cell_type": "code",
   "execution_count": null,
   "id": "663594b2-ad36-4b60-95b0-19d2eb184935",
   "metadata": {},
   "outputs": [],
   "source": [
    "print(f\"Mean Squared Error without Scaling is {MSE_without_scaling} and MSE after scaling {MSE}\")"
   ]
  },
  {
   "cell_type": "code",
   "execution_count": null,
   "id": "8795ade2-d0ff-47c9-bb3a-1093e4409b02",
   "metadata": {},
   "outputs": [],
   "source": [
    "r2_score_without_scaling = r2_score(y_test, y_pred_without_scaling)\n",
    "r2_score_without_scaling"
   ]
  },
  {
   "cell_type": "markdown",
   "id": "bb00b00d-667c-4d54-b33e-85b1c6577034",
   "metadata": {},
   "source": [
    "----------------------------------------------------------------------------------------------------------------------\n",
    "\n",
    "# Part 4: Visualization and Analysis\n",
    "\n",
    "<font color='purple'><strong>7. Create scatter plots to visualize the relationship between each feature (X1 to X6) and the target variable (Y). Discuss the patterns you observe in the plots.</strong></font> "
   ]
  },
  {
   "cell_type": "code",
   "execution_count": null,
   "id": "3567ee69-9b27-42c0-9f47-768b620ef4a8",
   "metadata": {},
   "outputs": [],
   "source": [
    "real_estate.head()"
   ]
  },
  {
   "cell_type": "code",
   "execution_count": null,
   "id": "6616c282-753a-4d9e-8989-a37455cd56b0",
   "metadata": {},
   "outputs": [],
   "source": [
    "fig, axes = plt.subplots(3,2, figsize=(10, 8))\n",
    "fig.suptitle(\"Relationship between each feature (X1 to X6) and the target variable (Y)\", fontsize=22)\n",
    "fig.tight_layout(pad=2.5)\n",
    "\n",
    "for i in range(3):\n",
    "    for j in range(2):\n",
    "        if i == 0 and j == 0:\n",
    "            axes[i,j].scatter(real_estate['X1 transaction date'], real_estate['Y house price of unit area'])\n",
    "            m, c = np.polyfit(real_estate['X1 transaction date'],real_estate['Y house price of unit area'],1)\n",
    "            axes[i,j].plot(real_estate['X1 transaction date'], real_estate['X1 transaction date']*m + c, color='red')\n",
    "            axes[i,j].set_xlabel('X1 transaction date')\n",
    "            axes[i,j].set_ylabel('Y')\n",
    "        elif i == 0 and j == 1:\n",
    "            axes[i,j].scatter(real_estate['X2 house age'], real_estate['Y house price of unit area'])\n",
    "            m, c = np.polyfit(real_estate['X2 house age'],real_estate['Y house price of unit area'],1)\n",
    "            axes[i,j].plot(real_estate['X2 house age'], real_estate['X2 house age']*m + c, color='red')\n",
    "            axes[i,j].set_xlabel('X2 house age')\n",
    "            axes[i,j].set_ylabel('Y')\n",
    "        elif i == 1 and j == 0:\n",
    "            axes[i,j].scatter(real_estate['X3 distance to the nearest MRT station'], real_estate['Y house price of unit area'])\n",
    "            m, c = np.polyfit(real_estate['X3 distance to the nearest MRT station'],real_estate['Y house price of unit area'],1)\n",
    "            axes[i,j].plot(real_estate['X3 distance to the nearest MRT station'], real_estate['X3 distance to the nearest MRT station']*m + c, color='red')\n",
    "            axes[i,j].set_xlabel('X3 distance to the nearest MRT station')\n",
    "            axes[i,j].set_ylabel('Y')\n",
    "        elif i == 1 and j == 1:\n",
    "            axes[i,j].scatter(real_estate['X4 number of convenience stores'], real_estate['Y house price of unit area'])\n",
    "            m, c = np.polyfit(real_estate['X4 number of convenience stores'],real_estate['Y house price of unit area'],1)\n",
    "            axes[i,j].plot(real_estate['X4 number of convenience stores'], real_estate['X4 number of convenience stores']*m + c, color='red')\n",
    "            axes[i,j].set_xlabel('X4 number of convenience stores')\n",
    "            axes[i,j].set_ylabel('Y')\n",
    "        elif i == 2 and j == 0:\n",
    "            axes[i,j].scatter(real_estate['X5 latitude'], real_estate['Y house price of unit area'])\n",
    "            m, c = np.polyfit(real_estate['X5 latitude'],real_estate['Y house price of unit area'],1)\n",
    "            axes[i,j].plot(real_estate['X5 latitude'], real_estate['X5 latitude']*m + c, color='red')\n",
    "            axes[i,j].set_xlabel('X5 latitude')\n",
    "            axes[i,j].set_ylabel('Y')\n",
    "        elif i == 2 and j == 1:\n",
    "            axes[i,j].scatter(real_estate['X6 longitude'], real_estate['Y house price of unit area'])\n",
    "            m, c = np.polyfit(real_estate['X6 longitude'],real_estate['Y house price of unit area'],1)\n",
    "            axes[i,j].plot(real_estate['X6 longitude'], real_estate['X6 longitude']*m + c, color='red')\n",
    "            axes[i,j].set_xlabel('X6 longitude')\n",
    "            axes[i,j].set_ylabel('Y')"
   ]
  },
  {
   "cell_type": "markdown",
   "id": "602b1def-a007-496e-9eaa-48a68dd40e95",
   "metadata": {},
   "source": [
    "Discussion on the patterns of the scatterplot shown above:\n",
    "\n",
    "* <font color='green'>X1 transaction date</font> column is not related at all with the <font color='green'>Y house price of unit area</font>\n",
    "\n",
    "* <font color='green'>X2 house age</font> column has a negative relation with the <font color='green'>Y house price of unit area</font> column which is intuitive because as house gets older the price of the house decreases.\n",
    "\n",
    "* <font color='green'>X3 distance to the nearest MRT station</font> column has a negative relation with the <font color='green'>Y house price of unit area\" column. The nearer the house is to MRT station more the house price is.\n",
    "\n",
    "* <font color='green'>X4 number of convenience stores</font> column has a positive relation with the <font color='green'>Price</font> column. As the number of convenience stores increase the house price also increases.\n",
    "\n",
    "* <font color='green'>X5 latitude</font> column shows a positive relationship with the \"Price\" column. This tells us that the higher the latitude, higher is the price of the house.\n",
    "\n",
    "* <font color='green'>X6 longitude</font> column shows a positive relationship with the \"Price\" column. This tells us that the higher the longitude, higher is the price of the house."
   ]
  },
  {
   "cell_type": "markdown",
   "id": "7518dd05-1b76-4f0e-a68c-fe005e57d669",
   "metadata": {},
   "source": [
    "<font color='purple'><strong>8. Visualize the predicted house prices from the scaled model against the actual house prices. Interpret the results and discuss any discrepancies.</strong></font>"
   ]
  },
  {
   "cell_type": "code",
   "execution_count": null,
   "id": "f697d910-20b6-4f26-a582-90b0bb5b5dcf",
   "metadata": {},
   "outputs": [],
   "source": [
    "plt.scatter(y_test, y_pred)\n",
    "plt.xlabel(\"Actual Value\")\n",
    "plt.ylabel(\"Predicted Value\")\n",
    "plt.title(\"Actual Value vs Predicted Value\", fontsize=20)"
   ]
  },
  {
   "cell_type": "markdown",
   "id": "4be63842-fa40-4cf8-9639-f7e688b6deaa",
   "metadata": {},
   "source": [
    "----------------------------------------------------------------------------------------------------------------------\n",
    "\n",
    "# Part 5: Advanced Problem (Optional)\n",
    "\n",
    "<font color='#BC7AF9'><strong>9. Implement Min-Max scaling for the feature columns (X1 to X6) manually (without using libraries). Train a linear regression model using the Min-Max scaled features and compare its performance with the Z-score scaled and unscaled models.</strong></font> "
   ]
  },
  {
   "cell_type": "code",
   "execution_count": null,
   "id": "c63af853-2d90-430a-8757-96c56088c8fd",
   "metadata": {},
   "outputs": [],
   "source": [
    "X_train_min_max = X_train.copy()\n",
    "X_test_min_max = X_test.copy()"
   ]
  },
  {
   "cell_type": "code",
   "execution_count": null,
   "id": "7735d89b-36aa-4d1a-b631-25504dbd8eaa",
   "metadata": {},
   "outputs": [],
   "source": [
    "X_train_min_max.head()"
   ]
  },
  {
   "cell_type": "code",
   "execution_count": null,
   "id": "a15527a3-8ffb-4fe1-ab46-1559860d8590",
   "metadata": {},
   "outputs": [],
   "source": [
    "X_train_min_max[\"X2 house age\"]"
   ]
  },
  {
   "cell_type": "code",
   "execution_count": null,
   "id": "de3e788e-dabe-41f2-92e2-1494f4ed247e",
   "metadata": {},
   "outputs": [],
   "source": [
    "scales_minmax = {}\n",
    "for column in X_train_min_max.columns:\n",
    "    column_min = X_train_min_max[column].min()\n",
    "    column_max = X_train_min_max[column].max()\n",
    "    scales_minmax[column] = dict(minimum = column_min, maximum = column_max)\n",
    "scales_minmax"
   ]
  },
  {
   "cell_type": "code",
   "execution_count": null,
   "id": "a7f915f9-74c7-4a1b-ae82-a5fbbfdb372e",
   "metadata": {},
   "outputs": [],
   "source": [
    "def min_max(column_data):\n",
    "    minimum = column_data.min()\n",
    "    maximum = column_data.max()\n",
    "    \n",
    "    return (column_data - minimum)/ (maximum - minimum)"
   ]
  },
  {
   "cell_type": "code",
   "execution_count": null,
   "id": "d44c2d14-47dc-485b-96d8-5fadff6d9cb0",
   "metadata": {},
   "outputs": [],
   "source": [
    "X_train_min_max['X2 house age'].dtype"
   ]
  },
  {
   "cell_type": "markdown",
   "id": "f803e75b-680a-4053-895c-3ed443972dce",
   "metadata": {},
   "source": [
    "#### Transform training data"
   ]
  },
  {
   "cell_type": "code",
   "execution_count": null,
   "id": "f957403f-eaee-4b69-a5ba-737d6c8531bb",
   "metadata": {},
   "outputs": [],
   "source": [
    "for column in X_train_min_max.columns:\n",
    "    if X_train_min_max[column].dtype != object:\n",
    "        X_train_min_max[column] = min_max(X_train_min_max[column])\n",
    "    else:\n",
    "        continue\n",
    "        \n",
    "X_train_min_max.head()"
   ]
  },
  {
   "cell_type": "markdown",
   "id": "e93a3ab8-57aa-4a04-9aec-8919030409af",
   "metadata": {},
   "source": [
    "#### Transforming test data"
   ]
  },
  {
   "cell_type": "code",
   "execution_count": null,
   "id": "7f765477-b653-494a-a557-1dca7dd7daf7",
   "metadata": {},
   "outputs": [],
   "source": [
    "X_test_min_max.head()"
   ]
  },
  {
   "cell_type": "code",
   "execution_count": null,
   "id": "f47acede-899c-43e8-948c-5f5e20d62f7c",
   "metadata": {},
   "outputs": [],
   "source": [
    "scales_minmax[\"X2 house age\"][\"maximum\"]"
   ]
  },
  {
   "cell_type": "code",
   "execution_count": null,
   "id": "a5a94d40-6885-4e32-90b0-29f10a9f2aaf",
   "metadata": {},
   "outputs": [],
   "source": [
    "for column in X_test_min_max.columns:\n",
    "    X_test_min_max[column] = (X_test_min_max[column] - scales_minmax[column][\"minimum\"]) / (scales_minmax[column][\"maximum\"] - scales_minmax[column][\"minimum\"])\n",
    "\n",
    "X_test_min_max.head()"
   ]
  },
  {
   "cell_type": "code",
   "execution_count": null,
   "id": "2b85b6f8-1d43-4e5d-8a6f-c1cf06ffeb71",
   "metadata": {},
   "outputs": [],
   "source": [
    "lr_minmax = LinearRegression()\n",
    "lr_minmax"
   ]
  },
  {
   "cell_type": "code",
   "execution_count": null,
   "id": "0209879d-fffb-4c71-a043-9e963fdf596a",
   "metadata": {},
   "outputs": [],
   "source": [
    "lr_minmax.fit(X_train_min_max, y_train)"
   ]
  },
  {
   "cell_type": "code",
   "execution_count": null,
   "id": "14827e43-0afa-4239-9d0f-fd69c32154be",
   "metadata": {},
   "outputs": [],
   "source": [
    "y_pred_minmax = lr_minmax.predict(X_test_min_max)\n",
    "y_pred_minmax"
   ]
  },
  {
   "cell_type": "code",
   "execution_count": null,
   "id": "c3c7551d-9d5e-4f26-a7f6-4c3178d1ccc6",
   "metadata": {},
   "outputs": [],
   "source": [
    "mse_minmax = mean_squared_error(y_test, y_pred_minmax)\n",
    "mse_minmax"
   ]
  },
  {
   "cell_type": "code",
   "execution_count": null,
   "id": "a0f59a16-4ae3-4833-96c0-bb209484d426",
   "metadata": {},
   "outputs": [],
   "source": [
    "r2_score_minmax = r2_score(y_test, y_pred_minmax)\n",
    "r2_score_minmax"
   ]
  },
  {
   "cell_type": "code",
   "execution_count": null,
   "id": "9f7b777d-c854-4a1c-86fe-c6c8402a24b5",
   "metadata": {},
   "outputs": [],
   "source": [
    "plt.scatter(y_test, y_pred_minmax)"
   ]
  },
  {
   "cell_type": "code",
   "execution_count": null,
   "id": "b316fcd8-c64e-47f8-bef1-bcab706b3b63",
   "metadata": {},
   "outputs": [],
   "source": [
    "MSE"
   ]
  },
  {
   "cell_type": "code",
   "execution_count": null,
   "id": "b2894cba-5706-4a60-a1bc-029ad12805e5",
   "metadata": {},
   "outputs": [],
   "source": [
    "MSE_without_scaling"
   ]
  },
  {
   "cell_type": "code",
   "execution_count": null,
   "id": "6afacd0d-e81d-44e6-b78b-d8e04c029969",
   "metadata": {},
   "outputs": [],
   "source": [
    "mse_minmax"
   ]
  },
  {
   "cell_type": "code",
   "execution_count": null,
   "id": "e0525baa-806a-42da-b61f-2565696ec18a",
   "metadata": {},
   "outputs": [],
   "source": [
    "r_squared"
   ]
  },
  {
   "cell_type": "code",
   "execution_count": null,
   "id": "7b3f1ae6-7d43-4a26-85d3-3dbe32860b65",
   "metadata": {},
   "outputs": [],
   "source": [
    "r2_score_minmax"
   ]
  },
  {
   "cell_type": "code",
   "execution_count": null,
   "id": "7fb2698a-ccf5-4d58-b6b3-d4be379b1a1f",
   "metadata": {},
   "outputs": [],
   "source": [
    "r2_score_without_scaling"
   ]
  },
  {
   "cell_type": "code",
   "execution_count": null,
   "id": "50fe8e99-6308-4585-8d08-9087d10a2d78",
   "metadata": {},
   "outputs": [],
   "source": [
    "performance = {\n",
    "    \"standardization\" : {\n",
    "        'mse': MSE,\n",
    "        'r2_score': r_squared\n",
    "    },\n",
    "    \n",
    "    \"normalization\" : {\n",
    "        'mse': mse_minmax,\n",
    "        'r2_score': r2_score_minmax\n",
    "    },\n",
    "    \n",
    "    \"no_feature_transformation\" : {\n",
    "        'mse': MSE_without_scaling,\n",
    "        'r2_score': r2_score_without_scaling\n",
    "    }\n",
    "}\n",
    "\n",
    "performance_df = pd.DataFrame(performance)\n",
    "performance_df"
   ]
  },
  {
   "cell_type": "code",
   "execution_count": null,
   "id": "72068d67-b8ca-45e3-aaec-0cc9a37bc030",
   "metadata": {},
   "outputs": [],
   "source": [
    "plt.scatter(performance_df.iloc[0, 0], performance_df.iloc[1, 0], color=\"#D80032\", label='standardization')\n",
    "plt.scatter(performance_df.iloc[0, 1], performance_df.iloc[1, 1], color=\"#E5D283\", label=\"normalization\")\n",
    "plt.scatter(performance_df.iloc[0, 2], performance_df.iloc[1, 2], color=\"#9400FF\", label='no_transformation')\n",
    "plt.legend()\n",
    "plt.xlabel(\"mse\")\n",
    "plt.ylabel(\"r2_score\")"
   ]
  },
  {
   "cell_type": "code",
   "execution_count": null,
   "id": "f5082a05-1ce4-49db-bd9f-28fee148e06b",
   "metadata": {},
   "outputs": [],
   "source": []
  }
 ],
 "metadata": {
  "kernelspec": {
   "display_name": "Python 3 (ipykernel)",
   "language": "python",
   "name": "python3"
  },
  "language_info": {
   "codemirror_mode": {
    "name": "ipython",
    "version": 3
   },
   "file_extension": ".py",
   "mimetype": "text/x-python",
   "name": "python",
   "nbconvert_exporter": "python",
   "pygments_lexer": "ipython3",
   "version": "3.11.4"
  }
 },
 "nbformat": 4,
 "nbformat_minor": 5
}
